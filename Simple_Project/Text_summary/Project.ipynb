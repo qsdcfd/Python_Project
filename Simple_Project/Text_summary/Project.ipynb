{
  "cells": [
    {
      "cell_type": "markdown",
      "id": "caf702a9",
      "metadata": {
        "id": "caf702a9"
      },
      "source": [
        "> ### 진행 순서\n",
        ">  1. 뉴스 기사 (base64 파일) 디코딩\n",
        ">  2. 문서 요약 / 키워드 추출\n",
        ">  3. 요약 리포트 작성\n",
        ">  4. html 파일로 Export"
      ]
    },
    {
      "cell_type": "markdown",
      "id": "f43f06f0",
      "metadata": {
        "id": "f43f06f0"
      },
      "source": [
        "### 1. 뉴스 기사 (base64 파일) 디코딩\n",
        "\n",
        "[원본 기사](https://n.news.naver.com/mnews/article/018/0005303739?sid=105)"
      ]
    },
    {
      "cell_type": "markdown",
      "id": "b7bb28fb",
      "metadata": {
        "id": "b7bb28fb"
      },
      "source": [
        "**바이너리 파일 읽기**"
      ]
    },
    {
      "cell_type": "code",
      "execution_count": null,
      "id": "6ae907df",
      "metadata": {
        "id": "6ae907df"
      },
      "outputs": [],
      "source": [
        "# 기사 이미지\n",
        "f = open(\"news/image\", 'rb')\n",
        "image = f.readlines()\n",
        "f.close()"
      ]
    },
    {
      "cell_type": "code",
      "execution_count": null,
      "id": "a75bd3fa",
      "metadata": {
        "id": "a75bd3fa"
      },
      "outputs": [],
      "source": [
        "print(image)   # base64 인코딩 파일"
      ]
    },
    {
      "cell_type": "code",
      "execution_count": null,
      "id": "7aa24119",
      "metadata": {
        "id": "7aa24119"
      },
      "outputs": [],
      "source": [
        "# 기사 본문\n",
        "f = open(\"news/article\", 'rb')\n",
        "article = f.readlines()\n",
        "f.close()"
      ]
    },
    {
      "cell_type": "code",
      "execution_count": null,
      "id": "a488c683",
      "metadata": {
        "id": "a488c683"
      },
      "outputs": [],
      "source": [
        "print(article)   # base64 인코딩 파일"
      ]
    },
    {
      "cell_type": "markdown",
      "id": "372f1d41",
      "metadata": {
        "id": "372f1d41"
      },
      "source": [
        "#### base64 디코딩"
      ]
    },
    {
      "cell_type": "code",
      "execution_count": null,
      "id": "0e18533a",
      "metadata": {
        "id": "0e18533a"
      },
      "outputs": [],
      "source": [
        "#기사 이미지 디코딩\n",
        "import base64\n",
        "file_base64 =image[0]"
      ]
    },
    {
      "cell_type": "code",
      "execution_count": null,
      "id": "8222a656",
      "metadata": {
        "id": "8222a656"
      },
      "outputs": [],
      "source": [
        "path = \"news/image.jpg\"\n",
        "with open(path, 'wb') as f:\n",
        "    decoded_data = base64.decodebytes(file_base64)\n",
        "    f.write(decoded_data)"
      ]
    },
    {
      "cell_type": "code",
      "execution_count": null,
      "id": "abd56255",
      "metadata": {
        "id": "abd56255"
      },
      "outputs": [],
      "source": [
        "from PIL import Image\n",
        "img =Image.open(path)\n",
        "img"
      ]
    },
    {
      "cell_type": "code",
      "execution_count": null,
      "id": "1041f3fe",
      "metadata": {
        "id": "1041f3fe"
      },
      "outputs": [],
      "source": [
        "# 기사 본문 디코딩\n",
        "file_base64 = article[0]\n",
        "decoded_data = base64.decodebytes(file_base64)"
      ]
    },
    {
      "cell_type": "code",
      "execution_count": null,
      "id": "1887fc0c",
      "metadata": {
        "id": "1887fc0c"
      },
      "outputs": [],
      "source": [
        "decoded_data"
      ]
    },
    {
      "cell_type": "code",
      "execution_count": null,
      "id": "3c44afed",
      "metadata": {
        "id": "3c44afed"
      },
      "outputs": [],
      "source": [
        "article = decoded_data.decode('utf-8')#문자열"
      ]
    },
    {
      "cell_type": "code",
      "execution_count": null,
      "id": "bf961504",
      "metadata": {
        "id": "bf961504"
      },
      "outputs": [],
      "source": [
        "print(article)"
      ]
    },
    {
      "cell_type": "markdown",
      "id": "190d7786",
      "metadata": {
        "id": "190d7786"
      },
      "source": [
        "### 2. 문서 요약 / 키워드 추출"
      ]
    },
    {
      "cell_type": "code",
      "execution_count": null,
      "id": "59eec089",
      "metadata": {
        "id": "59eec089"
      },
      "outputs": [],
      "source": [
        "from gensim.summarization.summarizer import summarize\n",
        "from gensim.summarization.textcleaner import split_sentences"
      ]
    },
    {
      "cell_type": "markdown",
      "id": "3a10725d",
      "metadata": {
        "id": "3a10725d"
      },
      "source": [
        "**summarize함수**"
      ]
    },
    {
      "cell_type": "code",
      "execution_count": null,
      "id": "73d07bab",
      "metadata": {
        "id": "73d07bab"
      },
      "outputs": [],
      "source": [
        "#단어수 기반 요약(word_count)\n",
        "print(summarize(article, word_count=50))"
      ]
    },
    {
      "cell_type": "code",
      "execution_count": null,
      "id": "afff147b",
      "metadata": {
        "id": "afff147b"
      },
      "outputs": [],
      "source": [
        "#비율 기반 요약(ratio)\n",
        "print(summarize(article, ratio=0.1))"
      ]
    },
    {
      "cell_type": "code",
      "execution_count": null,
      "id": "02be4a8a",
      "metadata": {
        "id": "02be4a8a"
      },
      "outputs": [],
      "source": [
        "#요약 텍스트 저장\n",
        "article_summarized = summarize(article, ratio=0.1)"
      ]
    },
    {
      "cell_type": "markdown",
      "id": "af11e0ff",
      "metadata": {
        "id": "af11e0ff"
      },
      "source": [
        "**키워드 추출**"
      ]
    },
    {
      "cell_type": "code",
      "execution_count": null,
      "id": "52c71459",
      "metadata": {
        "id": "52c71459"
      },
      "outputs": [],
      "source": [
        "import collections\n",
        "import textwrap\n",
        "import re"
      ]
    },
    {
      "cell_type": "code",
      "execution_count": null,
      "id": "d04ff880",
      "metadata": {
        "id": "d04ff880"
      },
      "outputs": [],
      "source": [
        "#줄바꿈 정렬\n",
        "article_align = textwrap.fill(article, width=50)\n",
        "print(article_align)"
      ]
    },
    {
      "cell_type": "code",
      "execution_count": null,
      "id": "29dd0ff0",
      "metadata": {
        "id": "29dd0ff0"
      },
      "outputs": [],
      "source": [
        "# 단어 추출\n",
        "words = re.findall(r'\\w+', article_align)\n",
        "print(words)"
      ]
    },
    {
      "cell_type": "code",
      "execution_count": null,
      "id": "bc0699c4",
      "metadata": {
        "id": "bc0699c4"
      },
      "outputs": [],
      "source": [
        "#빈도수 산출\n",
        "counter  = collections.Counter(words)\n",
        "print(counter)"
      ]
    },
    {
      "cell_type": "code",
      "execution_count": null,
      "id": "f9ee14f6",
      "metadata": {
        "id": "f9ee14f6"
      },
      "outputs": [],
      "source": [
        "#키워드 산출\n",
        "print(counter.most_common(5))"
      ]
    },
    {
      "cell_type": "code",
      "execution_count": null,
      "id": "f1aec1fb",
      "metadata": {
        "id": "f1aec1fb"
      },
      "outputs": [],
      "source": [
        "keywords = counter.most_common(5)[1:]"
      ]
    },
    {
      "cell_type": "markdown",
      "id": "4e84c206",
      "metadata": {
        "id": "4e84c206"
      },
      "source": [
        "### 3. 요약 리포트 작성"
      ]
    },
    {
      "cell_type": "code",
      "execution_count": null,
      "id": "c971ec0c",
      "metadata": {
        "id": "c971ec0c"
      },
      "outputs": [],
      "source": [
        "from IPython.display import Image\n",
        "Image(filename=path, width=300)"
      ]
    },
    {
      "cell_type": "code",
      "execution_count": null,
      "id": "70e050d9",
      "metadata": {
        "id": "70e050d9"
      },
      "outputs": [],
      "source": [
        "print(article_summarized)"
      ]
    },
    {
      "cell_type": "code",
      "execution_count": null,
      "id": "7fd1ce14",
      "metadata": {
        "id": "7fd1ce14"
      },
      "outputs": [],
      "source": [
        "keys = ['# ' + elem[0] for elem in keywords]\n",
        "keys = ' '.join(keys)\n",
        "print(keys)"
      ]
    },
    {
      "cell_type": "markdown",
      "id": "cc10991d",
      "metadata": {
        "id": "cc10991d"
      },
      "source": [
        "### 2-7-4. html 파일로 저장\n",
        "\n",
        "[원본 기사](https://n.news.naver.com/mnews/article/018/0005303739?sid=105)"
      ]
    },
    {
      "cell_type": "code",
      "execution_count": null,
      "id": "645d4ebd",
      "metadata": {
        "id": "645d4ebd"
      },
      "outputs": [],
      "source": [
        "# html 파일 저장\n",
        "htmlfile = open(\"news/summary.html\", \"w\")\n",
        "htmlfile.write(\"<html>\\n\")\n",
        "htmlfile.write (\"<h1>\"+ '카운트다운 들어간 아르테미스 계획…\"달의 여신\"은 미소지을까' + \"</h2>\\n\") \n",
        "htmlfile.write (\"<img src='image.jpg'/>\\n\")\n",
        "htmlfile.write (\"<h2>\"+ article_summarized + \"</h2>\\n\") \n",
        "htmlfile.write (\"<h2 style='background-color:powderblue;''>\"+ keys + \"</h2>\\n\") \n",
        "htmlfile.write(\"</html>\\n\")\n",
        "htmlfile.close()"
      ]
    }
  ],
  "metadata": {
    "kernelspec": {
      "display_name": "Python 3 (ipykernel)",
      "language": "python",
      "name": "python3"
    },
    "language_info": {
      "codemirror_mode": {
        "name": "ipython",
        "version": 3
      },
      "file_extension": ".py",
      "mimetype": "text/x-python",
      "name": "python",
      "nbconvert_exporter": "python",
      "pygments_lexer": "ipython3",
      "version": "3.8.13"
    },
    "colab": {
      "provenance": []
    }
  },
  "nbformat": 4,
  "nbformat_minor": 5
}